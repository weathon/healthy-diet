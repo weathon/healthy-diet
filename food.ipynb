{
 "cells": [
  {
   "cell_type": "code",
   "execution_count": null,
   "metadata": {},
   "outputs": [],
   "source": [
    "import os\n",
    "import tensorflow as tf\n",
    "import numpy as np\n",
    "import pandas as pd\n",
    "from PIL import Image\n",
    "import pylab"
   ]
  },
  {
   "cell_type": "markdown",
   "metadata": {},
   "source": [
    "### Load Data"
   ]
  },
  {
   "cell_type": "code",
   "execution_count": 12,
   "metadata": {},
   "outputs": [],
   "source": [
    "X = []\n",
    "Y = []\n",
    "df = np.array(pd.read_csv(\"train_img.csv\"))\n",
    "for i in df:\n",
    "    X.append(np.array(Image.open(f\"train_images/train_images/{i[0]}\").resize((128,128))))\n",
    "    Y.append(i[1])"
   ]
  },
  {
   "cell_type": "code",
   "execution_count": 13,
   "metadata": {},
   "outputs": [],
   "source": [
    "Y_mapping = {}\n",
    "l = 0\n",
    "for i in range(len(Y)):\n",
    "    try:\n",
    "        tmp = Y_mapping[Y[i]]\n",
    "        Y[i] = tmp\n",
    "    except:\n",
    "        Y_mapping[Y[i]] = l\n",
    "        Y[i] = l\n",
    "        l+=1"
   ]
  },
  {
   "cell_type": "code",
   "execution_count": 16,
   "metadata": {},
   "outputs": [],
   "source": [
    "for i in range(len(Y)):\n",
    "    tmp = np.zeros_like([0]*(l+1))\n",
    "    tmp[Y[i]] = 1\n",
    "    Y[i] = tmp"
   ]
  },
  {
   "cell_type": "markdown",
   "metadata": {},
   "source": [
    "### Model"
   ]
  },
  {
   "cell_type": "code",
   "execution_count": 38,
   "metadata": {},
   "outputs": [
    {
     "name": "stdout",
     "output_type": "stream",
     "text": [
      "Model: \"sequential_14\"\n",
      "_________________________________________________________________\n",
      " Layer (type)                Output Shape              Param #   \n",
      "=================================================================\n",
      " conv2d_81 (Conv2D)          (None, 126, 126, 64)      1792      \n",
      "                                                                 \n",
      " conv2d_82 (Conv2D)          (None, 124, 124, 64)      36928     \n",
      "                                                                 \n",
      " conv2d_83 (Conv2D)          (None, 122, 122, 64)      36928     \n",
      "                                                                 \n",
      " max_pooling2d_26 (MaxPoolin  (None, 61, 61, 64)       0         \n",
      " g2D)                                                            \n",
      "                                                                 \n",
      " conv2d_84 (Conv2D)          (None, 59, 59, 128)       73856     \n",
      "                                                                 \n",
      " conv2d_85 (Conv2D)          (None, 57, 57, 128)       147584    \n",
      "                                                                 \n",
      " conv2d_86 (Conv2D)          (None, 55, 55, 128)       147584    \n",
      "                                                                 \n",
      " max_pooling2d_27 (MaxPoolin  (None, 27, 27, 128)      0         \n",
      " g2D)                                                            \n",
      "                                                                 \n",
      " conv2d_87 (Conv2D)          (None, 25, 25, 256)       295168    \n",
      "                                                                 \n",
      " conv2d_88 (Conv2D)          (None, 23, 23, 256)       590080    \n",
      "                                                                 \n",
      " conv2d_89 (Conv2D)          (None, 21, 21, 256)       590080    \n",
      "                                                                 \n",
      " max_pooling2d_28 (MaxPoolin  (None, 10, 10, 256)      0         \n",
      " g2D)                                                            \n",
      "                                                                 \n",
      " flatten_5 (Flatten)         (None, 25600)             0         \n",
      "                                                                 \n",
      " dense_14 (Dense)            (None, 1024)              26215424  \n",
      "                                                                 \n",
      " dense_15 (Dense)            (None, 512)               524800    \n",
      "                                                                 \n",
      " dense_16 (Dense)            (None, 62)                31806     \n",
      "                                                                 \n",
      " dense_17 (Dense)            (None, 62)                3906      \n",
      "                                                                 \n",
      "=================================================================\n",
      "Total params: 28,695,936\n",
      "Trainable params: 28,695,936\n",
      "Non-trainable params: 0\n",
      "_________________________________________________________________\n"
     ]
    }
   ],
   "source": [
    "model = tf.keras.Sequential([\n",
    "    tf.keras.layers.Input(shape=(128,128,3)),\n",
    "    tf.keras.layers.Conv2D(64,(3,3),activation=\"relu\"),\n",
    "    tf.keras.layers.Conv2D(64,(3,3),activation=\"relu\"),\n",
    "    tf.keras.layers.Conv2D(64,(3,3),activation=\"relu\"),\n",
    "    tf.keras.layers.MaxPooling2D(),\n",
    "    tf.keras.layers.Conv2D(128,(3,3),activation=\"relu\"),\n",
    "    tf.keras.layers.Conv2D(128,(3,3),activation=\"relu\"),\n",
    "    tf.keras.layers.Conv2D(128,(3,3),activation=\"relu\"),\n",
    "    tf.keras.layers.MaxPooling2D(),\n",
    "    tf.keras.layers.Conv2D(256,(3,3),activation=\"relu\"),\n",
    "    tf.keras.layers.Conv2D(256,(3,3),activation=\"relu\"),\n",
    "    tf.keras.layers.Conv2D(256,(3,3),activation=\"relu\"),\n",
    "    tf.keras.layers.MaxPooling2D(),\n",
    "    tf.keras.layers.Flatten(),\n",
    "    tf.keras.layers.Dense(1024, activation=\"relu\"),\n",
    "    tf.keras.layers.Dense(512, activation=\"relu\"),\n",
    "    tf.keras.layers.Dense(len(Y_mapping.keys())+1, activation=\"relu\"),\n",
    "    tf.keras.layers.Dense(len(Y_mapping.keys())+1, activation=\"softmax\")\n",
    "])\n",
    "model.compile(optimizer='adam', loss='categorical_crossentropy')\n",
    "model.summary()"
   ]
  },
  {
   "cell_type": "code",
   "execution_count": 39,
   "metadata": {},
   "outputs": [],
   "source": [
    "X = np.array(X)\n",
    "Y = np.array(Y)"
   ]
  },
  {
   "cell_type": "code",
   "execution_count": 40,
   "metadata": {},
   "outputs": [
    {
     "name": "stdout",
     "output_type": "stream",
     "text": [
      "Epoch 1/10\n",
      " 35/292 [==>...........................] - ETA: 21:41 - loss: 5.1793"
     ]
    }
   ],
   "source": [
    "model.fit(X, Y, epochs=10)"
   ]
  }
 ],
 "metadata": {
  "kernelspec": {
   "display_name": "Python 3.9.2 64-bit",
   "language": "python",
   "name": "python3"
  },
  "language_info": {
   "codemirror_mode": {
    "name": "ipython",
    "version": 3
   },
   "file_extension": ".py",
   "mimetype": "text/x-python",
   "name": "python",
   "nbconvert_exporter": "python",
   "pygments_lexer": "ipython3",
   "version": "3.9.2"
  },
  "orig_nbformat": 4,
  "vscode": {
   "interpreter": {
    "hash": "31f2aee4e71d21fbe5cf8b01ff0e069b9275f58929596ceb00d14d90e3e16cd6"
   }
  }
 },
 "nbformat": 4,
 "nbformat_minor": 2
}
